{
 "cells": [
  {
   "cell_type": "code",
   "execution_count": 2,
   "id": "3bbe4204",
   "metadata": {},
   "outputs": [],
   "source": [
    "import pandas as pd \n",
    "import numpy as np "
   ]
  },
  {
   "cell_type": "code",
   "execution_count": 4,
   "id": "2057e460",
   "metadata": {},
   "outputs": [
    {
     "data": {
      "text/html": [
       "<div>\n",
       "<style scoped>\n",
       "    .dataframe tbody tr th:only-of-type {\n",
       "        vertical-align: middle;\n",
       "    }\n",
       "\n",
       "    .dataframe tbody tr th {\n",
       "        vertical-align: top;\n",
       "    }\n",
       "\n",
       "    .dataframe thead th {\n",
       "        text-align: right;\n",
       "    }\n",
       "</style>\n",
       "<table border=\"1\" class=\"dataframe\">\n",
       "  <thead>\n",
       "    <tr style=\"text-align: right;\">\n",
       "      <th></th>\n",
       "      <th>Unnamed: 0</th>\n",
       "      <th>clean_text</th>\n",
       "      <th>category</th>\n",
       "    </tr>\n",
       "  </thead>\n",
       "  <tbody>\n",
       "    <tr>\n",
       "      <th>0</th>\n",
       "      <td>0</td>\n",
       "      <td>when modi promised “minimum government maximum...</td>\n",
       "      <td>-1.0</td>\n",
       "    </tr>\n",
       "    <tr>\n",
       "      <th>1</th>\n",
       "      <td>1</td>\n",
       "      <td>talk all the nonsense and continue all the dra...</td>\n",
       "      <td>0.0</td>\n",
       "    </tr>\n",
       "    <tr>\n",
       "      <th>2</th>\n",
       "      <td>2</td>\n",
       "      <td>what did just say vote for modi  welcome bjp t...</td>\n",
       "      <td>1.0</td>\n",
       "    </tr>\n",
       "    <tr>\n",
       "      <th>3</th>\n",
       "      <td>3</td>\n",
       "      <td>asking his supporters prefix chowkidar their n...</td>\n",
       "      <td>1.0</td>\n",
       "    </tr>\n",
       "    <tr>\n",
       "      <th>4</th>\n",
       "      <td>4</td>\n",
       "      <td>answer who among these the most powerful world...</td>\n",
       "      <td>1.0</td>\n",
       "    </tr>\n",
       "  </tbody>\n",
       "</table>\n",
       "</div>"
      ],
      "text/plain": [
       "   Unnamed: 0                                         clean_text  category\n",
       "0           0  when modi promised “minimum government maximum...      -1.0\n",
       "1           1  talk all the nonsense and continue all the dra...       0.0\n",
       "2           2  what did just say vote for modi  welcome bjp t...       1.0\n",
       "3           3  asking his supporters prefix chowkidar their n...       1.0\n",
       "4           4  answer who among these the most powerful world...       1.0"
      ]
     },
     "execution_count": 4,
     "metadata": {},
     "output_type": "execute_result"
    }
   ],
   "source": [
    "df=pd.read_csv('Twitter.csv')\n",
    "df.head() "
   ]
  },
  {
   "cell_type": "code",
   "execution_count": 5,
   "id": "cb853045",
   "metadata": {},
   "outputs": [
    {
     "data": {
      "text/plain": [
       " 1.0    8374\n",
       " 0.0    6807\n",
       "-1.0    4819\n",
       "Name: category, dtype: int64"
      ]
     },
     "execution_count": 5,
     "metadata": {},
     "output_type": "execute_result"
    }
   ],
   "source": [
    "df['category'].value_counts() "
   ]
  },
  {
   "cell_type": "code",
   "execution_count": 6,
   "id": "de0be9be",
   "metadata": {},
   "outputs": [
    {
     "data": {
      "text/plain": [
       "<bound method DataFrame.info of        Unnamed: 0                                         clean_text  category\n",
       "0               0  when modi promised “minimum government maximum...      -1.0\n",
       "1               1  talk all the nonsense and continue all the dra...       0.0\n",
       "2               2  what did just say vote for modi  welcome bjp t...       1.0\n",
       "3               3  asking his supporters prefix chowkidar their n...       1.0\n",
       "4               4  answer who among these the most powerful world...       1.0\n",
       "...           ...                                                ...       ...\n",
       "19995       19995                sushil modi the destroyer bihar bjp       0.0\n",
       "19996       19996  new post west bengal modi and bjp are collisio...       1.0\n",
       "19997       19997  yes everyone not fool everyone cant fooled for...      -1.0\n",
       "19998       19998  the eastern indian state west bengal both prim...      -1.0\n",
       "19999       19999  mentioned kashmiri muslims suffering after pul...      -1.0\n",
       "\n",
       "[20000 rows x 3 columns]>"
      ]
     },
     "execution_count": 6,
     "metadata": {},
     "output_type": "execute_result"
    }
   ],
   "source": [
    "df.info "
   ]
  },
  {
   "cell_type": "code",
   "execution_count": 7,
   "id": "640c235e",
   "metadata": {},
   "outputs": [
    {
     "data": {
      "text/plain": [
       "Unnamed: 0    0\n",
       "clean_text    1\n",
       "category      0\n",
       "dtype: int64"
      ]
     },
     "execution_count": 7,
     "metadata": {},
     "output_type": "execute_result"
    }
   ],
   "source": [
    "df.isna().sum() "
   ]
  },
  {
   "cell_type": "code",
   "execution_count": 8,
   "id": "fa33aae2",
   "metadata": {},
   "outputs": [
    {
     "data": {
      "text/plain": [
       "Unnamed: 0    0\n",
       "clean_text    0\n",
       "category      0\n",
       "dtype: int64"
      ]
     },
     "execution_count": 8,
     "metadata": {},
     "output_type": "execute_result"
    }
   ],
   "source": [
    "df.dropna(axis=0,inplace=True)\n",
    "df.isna().sum() "
   ]
  },
  {
   "cell_type": "code",
   "execution_count": 9,
   "id": "19a68dd3",
   "metadata": {},
   "outputs": [],
   "source": [
    "df=df.iloc[:50000, ] "
   ]
  },
  {
   "cell_type": "code",
   "execution_count": 10,
   "id": "0328abeb",
   "metadata": {},
   "outputs": [],
   "source": [
    "x=df['clean_text'].values\n",
    "y=df['category'].astype(str).values \n"
   ]
  },
  {
   "cell_type": "code",
   "execution_count": 11,
   "id": "c0965471",
   "metadata": {},
   "outputs": [],
   "source": [
    "from sklearn.model_selection import train_test_split\n",
    "x_train,x_test,y_train,y_test=train_test_split(x,y,test_size=.3,random_state=103)"
   ]
  },
  {
   "cell_type": "code",
   "execution_count": 12,
   "id": "3568f9bd",
   "metadata": {},
   "outputs": [
    {
     "data": {
      "text/plain": [
       "CountVectorizer(stop_words='english')"
      ]
     },
     "execution_count": 12,
     "metadata": {},
     "output_type": "execute_result"
    }
   ],
   "source": [
    "from sklearn.feature_extraction.text import CountVectorizer\n",
    "vect=CountVectorizer(stop_words='english')\n",
    "vect "
   ]
  },
  {
   "cell_type": "code",
   "execution_count": 13,
   "id": "f76905a4",
   "metadata": {},
   "outputs": [],
   "source": [
    "x_train_vect=vect.fit_transform(x_train.astype('U'))\n",
    "x_test_vect=vect.transform(x_test) "
   ]
  },
  {
   "cell_type": "code",
   "execution_count": null,
   "id": "f6088d6a",
   "metadata": {},
   "outputs": [],
   "source": [
    "from sklearn.svm import SVC\n",
    "model=SVC() \n",
    "model.fit(x_train_vect,y_train)    "
   ]
  },
  {
   "cell_type": "code",
   "execution_count": 15,
   "id": "ca4470ca",
   "metadata": {},
   "outputs": [
    {
     "data": {
      "text/plain": [
       "array(['0.0', '1.0', '0.0', ..., '1.0', '0.0', '0.0'], dtype=object)"
      ]
     },
     "execution_count": 15,
     "metadata": {},
     "output_type": "execute_result"
    }
   ],
   "source": [
    "y_predict=model.predict(x_test_vect)\n",
    "y_predict "
   ]
  },
  {
   "cell_type": "code",
   "execution_count": 16,
   "id": "61b47571",
   "metadata": {},
   "outputs": [
    {
     "data": {
      "text/plain": [
       "0.7333333333333333"
      ]
     },
     "execution_count": 16,
     "metadata": {},
     "output_type": "execute_result"
    }
   ],
   "source": [
    "model.score(x_test_vect,y_test) "
   ]
  },
  {
   "cell_type": "code",
   "execution_count": 18,
   "id": "db8b8178",
   "metadata": {},
   "outputs": [],
   "source": [
    "from sklearn.metrics import accuracy_score,classification_report,confusion_matrix "
   ]
  },
  {
   "cell_type": "code",
   "execution_count": 19,
   "id": "dc565676",
   "metadata": {},
   "outputs": [
    {
     "data": {
      "text/plain": [
       "0.7333333333333333"
      ]
     },
     "execution_count": 19,
     "metadata": {},
     "output_type": "execute_result"
    }
   ],
   "source": [
    "accuracy_score(y_predict,y_test) "
   ]
  },
  {
   "cell_type": "code",
   "execution_count": 55,
   "id": "e728d2d3",
   "metadata": {},
   "outputs": [
    {
     "data": {
      "text/plain": [
       "'              precision    recall  f1-score   support\\n\\n        -1.0       0.47      0.81      0.60       852\\n         0.0       0.87      0.71      0.78      2515\\n         1.0       0.78      0.73      0.75      2633\\n\\n    accuracy                           0.73      6000\\n   macro avg       0.71      0.75      0.71      6000\\nweighted avg       0.77      0.73      0.74      6000\\n'"
      ]
     },
     "execution_count": 55,
     "metadata": {},
     "output_type": "execute_result"
    }
   ],
   "source": [
    "classification_report(y_predict,y_test)\n"
   ]
  },
  {
   "cell_type": "code",
   "execution_count": 20,
   "id": "97a55537",
   "metadata": {},
   "outputs": [
    {
     "data": {
      "text/plain": [
       "'urge all south states india people support all respect with heart mind for modi have lagged behind nation after independence due neta propaganda for religion language local strategycastescreedsregions bias kith kind etc'"
      ]
     },
     "execution_count": 20,
     "metadata": {},
     "output_type": "execute_result"
    }
   ],
   "source": [
    "test=df['clean_text'][658]\n",
    "test "
   ]
  },
  {
   "cell_type": "code",
   "execution_count": 21,
   "id": "bcf2911b",
   "metadata": {},
   "outputs": [
    {
     "data": {
      "text/plain": [
       "-1.0"
      ]
     },
     "execution_count": 21,
     "metadata": {},
     "output_type": "execute_result"
    }
   ],
   "source": [
    "df['category'][658] "
   ]
  },
  {
   "cell_type": "code",
   "execution_count": 22,
   "id": "b7e3974e",
   "metadata": {},
   "outputs": [
    {
     "data": {
      "text/plain": [
       "array(['-1.0'], dtype=object)"
      ]
     },
     "execution_count": 22,
     "metadata": {},
     "output_type": "execute_result"
    }
   ],
   "source": [
    "test=vect.transform([df['clean_text'][658]])\n",
    "model.predict(test) \n"
   ]
  },
  {
   "cell_type": "code",
   "execution_count": 23,
   "id": "6a053502",
   "metadata": {},
   "outputs": [
    {
     "data": {
      "text/plain": [
       "array(['0.0', '1.0', '0.0', ..., '1.0', '0.0', '0.0'], dtype=object)"
      ]
     },
     "execution_count": 23,
     "metadata": {},
     "output_type": "execute_result"
    }
   ],
   "source": [
    "from sklearn.pipeline import make_pipeline\n",
    "text_model=make_pipeline(CountVectorizer(),SVC())\n",
    "text_model.fit(x_train,y_train)  \n",
    "\n",
    "y_pred=text_model.predict(x_test) \n",
    "y_pred                    "
   ]
  },
  {
   "cell_type": "code",
   "execution_count": 24,
   "id": "b26cc2eb",
   "metadata": {},
   "outputs": [
    {
     "data": {
      "text/plain": [
       "Pipeline(memory=None,\n",
       "         steps=[('countvectorizer',\n",
       "                 CountVectorizer(analyzer='word', binary=False,\n",
       "                                 decode_error='strict',\n",
       "                                 dtype=<class 'numpy.int64'>, encoding='utf-8',\n",
       "                                 input='content', lowercase=True, max_df=1.0,\n",
       "                                 max_features=None, min_df=1,\n",
       "                                 ngram_range=(1, 1), preprocessor=None,\n",
       "                                 stop_words=None, strip_accents=None,\n",
       "                                 token_pattern='(?u)\\\\b\\\\w\\\\w+\\\\b',\n",
       "                                 tokenizer=None, vocabulary=None)),\n",
       "                ('svc',\n",
       "                 SVC(C=1.0, break_ties=False, cache_size=200, class_weight=None,\n",
       "                     coef0=0.0, decision_function_shape='ovr', degree=3,\n",
       "                     gamma='scale', kernel='rbf', max_iter=-1,\n",
       "                     probability=False, random_state=None, shrinking=True,\n",
       "                     tol=0.001, verbose=False))],\n",
       "         verbose=False)"
      ]
     },
     "execution_count": 24,
     "metadata": {},
     "output_type": "execute_result"
    }
   ],
   "source": [
    "text_model"
   ]
  },
  {
   "cell_type": "code",
   "execution_count": 25,
   "id": "7fef7bc2",
   "metadata": {},
   "outputs": [
    {
     "data": {
      "text/plain": [
       "array(['-1.0'], dtype=object)"
      ]
     },
     "execution_count": 25,
     "metadata": {},
     "output_type": "execute_result"
    }
   ],
   "source": [
    "text_model.predict([df['clean_text'][0]]) "
   ]
  },
  {
   "cell_type": "code",
   "execution_count": 26,
   "id": "a003713c",
   "metadata": {},
   "outputs": [
    {
     "data": {
      "text/plain": [
       "['C:\\\\Users\\\\Document\\\\OneDrive\\\\Pictures\\\\Saved Pictures\\\\sentiment1.joblib']"
      ]
     },
     "execution_count": 26,
     "metadata": {},
     "output_type": "execute_result"
    }
   ],
   "source": [
    "import joblib \n",
    "joblib.dump(text_model,'C:\\\\Users\\\\Document\\\\OneDrive\\\\Pictures\\\\Saved Pictures\\\\sentiment1.joblib') "
   ]
  },
  {
   "cell_type": "code",
   "execution_count": 27,
   "id": "4cb699f9",
   "metadata": {},
   "outputs": [
    {
     "name": "stdout",
     "output_type": "stream",
     "text": [
      "Overwriting app.py\n"
     ]
    }
   ],
   "source": [
    "%%writefile app.py\n",
    "import streamlit as st \n",
    "import joblib \n",
    "model=joblib.load('C:\\\\Users\\\\Document\\\\OneDrive\\\\Pictures\\\\Saved Pictures\\\\sentiment1.joblib') \n",
    "st.title('Sentimental-Analycis')\n",
    "text=st.text_input('enter the message')\n",
    "predict=float(model.predict([text]))\n",
    "category='normal category' \n",
    "if predict==1.0:\n",
    "    category='Positive category'\n",
    "elif predict==-1.0:\n",
    "    category='Negative category' \n",
    "    st.write(category)  "
   ]
  },
  {
   "cell_type": "code",
   "execution_count": 34,
   "id": "58e6b069",
   "metadata": {},
   "outputs": [
    {
     "name": "stdout",
     "output_type": "stream",
     "text": [
      "^C\n"
     ]
    }
   ],
   "source": [
    "!pip install pyngrok \n",
    "\n"
   ]
  },
  {
   "cell_type": "code",
   "execution_count": 36,
   "id": "3aeaec60",
   "metadata": {},
   "outputs": [
    {
     "name": "stdout",
     "output_type": "stream",
     "text": [
      "Requirement already satisfied: pyngrok in c:\\users\\document\\anaconda3\\lib\\site-packages (5.1.0)\n",
      "Requirement already satisfied: PyYAML in c:\\users\\document\\anaconda3\\lib\\site-packages (from pyngrok) (5.4.1)\n"
     ]
    }
   ],
   "source": [
    "from pyngrok import ngrok "
   ]
  },
  {
   "cell_type": "code",
   "execution_count": 24,
   "id": "0148cf3e",
   "metadata": {},
   "outputs": [
    {
     "ename": "OSError",
     "evalue": "Background processes not supported.",
     "output_type": "error",
     "traceback": [
      "\u001b[1;31m---------------------------------------------------------------------------\u001b[0m",
      "\u001b[1;31mOSError\u001b[0m                                   Traceback (most recent call last)",
      "\u001b[1;32m<ipython-input-24-0f0a388504e1>\u001b[0m in \u001b[0;36m<module>\u001b[1;34m\u001b[0m\n\u001b[1;32m----> 1\u001b[1;33m \u001b[0mget_ipython\u001b[0m\u001b[1;33m(\u001b[0m\u001b[1;33m)\u001b[0m\u001b[1;33m.\u001b[0m\u001b[0msystem\u001b[0m\u001b[1;33m(\u001b[0m\u001b[1;34m'nohup streamlit run app.py &'\u001b[0m\u001b[1;33m)\u001b[0m\u001b[1;33m\u001b[0m\u001b[1;33m\u001b[0m\u001b[0m\n\u001b[0m\u001b[0;32m      2\u001b[0m \u001b[0murl\u001b[0m\u001b[1;33m=\u001b[0m\u001b[0mngrok\u001b[0m\u001b[1;33m.\u001b[0m\u001b[0mconnect\u001b[0m\u001b[1;33m(\u001b[0m\u001b[0mport\u001b[0m\u001b[1;33m=\u001b[0m\u001b[1;34m'8501'\u001b[0m\u001b[1;33m)\u001b[0m\u001b[1;33m\u001b[0m\u001b[1;33m\u001b[0m\u001b[0m\n\u001b[0;32m      3\u001b[0m \u001b[0mprint\u001b[0m\u001b[1;33m(\u001b[0m\u001b[0murl\u001b[0m\u001b[1;33m)\u001b[0m\u001b[1;33m\u001b[0m\u001b[1;33m\u001b[0m\u001b[0m\n",
      "\u001b[1;32m~\\anaconda3\\lib\\site-packages\\ipykernel\\zmqshell.py\u001b[0m in \u001b[0;36msystem_piped\u001b[1;34m(self, cmd)\u001b[0m\n\u001b[0;32m    618\u001b[0m             \u001b[1;31m# os.system() or use ip.system=ip.system_raw\u001b[0m\u001b[1;33m\u001b[0m\u001b[1;33m\u001b[0m\u001b[1;33m\u001b[0m\u001b[0m\n\u001b[0;32m    619\u001b[0m             \u001b[1;31m# if they really want a background process.\u001b[0m\u001b[1;33m\u001b[0m\u001b[1;33m\u001b[0m\u001b[1;33m\u001b[0m\u001b[0m\n\u001b[1;32m--> 620\u001b[1;33m             \u001b[1;32mraise\u001b[0m \u001b[0mOSError\u001b[0m\u001b[1;33m(\u001b[0m\u001b[1;34m\"Background processes not supported.\"\u001b[0m\u001b[1;33m)\u001b[0m\u001b[1;33m\u001b[0m\u001b[1;33m\u001b[0m\u001b[0m\n\u001b[0m\u001b[0;32m    621\u001b[0m \u001b[1;33m\u001b[0m\u001b[0m\n\u001b[0;32m    622\u001b[0m         \u001b[1;31m# we explicitly do NOT return the subprocess status code, because\u001b[0m\u001b[1;33m\u001b[0m\u001b[1;33m\u001b[0m\u001b[1;33m\u001b[0m\u001b[0m\n",
      "\u001b[1;31mOSError\u001b[0m: Background processes not supported."
     ]
    }
   ],
   "source": [
    "get_ipython().system('nohup streamlit run app.py &')\n",
    "url=ngrok.connect(port='8501')\n",
    "print(url) "
   ]
  },
  {
   "cell_type": "code",
   "execution_count": 2,
   "id": "88c8f71a",
   "metadata": {},
   "outputs": [],
   "source": [
    "get_ipython().system_raw('./ngrok http 8501 &') "
   ]
  },
  {
   "cell_type": "code",
   "execution_count": 1,
   "id": "91d58705",
   "metadata": {},
   "outputs": [],
   "source": [
    "!streamlit run app.py  "
   ]
  },
  {
   "cell_type": "code",
   "execution_count": 1,
   "id": "7dd909db",
   "metadata": {},
   "outputs": [
    {
     "name": "stderr",
     "output_type": "stream",
     "text": [
      "WARNING: Skipping scikit-learn-y as it is not installed.\n"
     ]
    }
   ],
   "source": [
    "!pip uninstall scikit-learn-y \n"
   ]
  },
  {
   "cell_type": "code",
   "execution_count": 35,
   "id": "e4c5c47b",
   "metadata": {},
   "outputs": [
    {
     "name": "stdout",
     "output_type": "stream",
     "text": [
      "Requirement already satisfied: scikit-learn==0.22.2 in c:\\users\\document\\anaconda3\\lib\\site-packages (0.22.2)\n",
      "Requirement already satisfied: joblib>=0.11 in c:\\users\\document\\anaconda3\\lib\\site-packages (from scikit-learn==0.22.2) (1.0.1)\n",
      "Requirement already satisfied: scipy>=0.17.0 in c:\\users\\document\\anaconda3\\lib\\site-packages (from scikit-learn==0.22.2) (1.6.2)\n",
      "Requirement already satisfied: numpy>=1.11.0 in c:\\users\\document\\anaconda3\\lib\\site-packages (from scikit-learn==0.22.2) (1.20.1)\n"
     ]
    },
    {
     "name": "stderr",
     "output_type": "stream",
     "text": [
      "WARNING: Retrying (Retry(total=4, connect=None, read=None, redirect=None, status=None)) after connection broken by 'NewConnectionError('<pip._vendor.urllib3.connection.HTTPSConnection object at 0x00000222D2E048E0>: Failed to establish a new connection: [Errno 11001] getaddrinfo failed')': /simple/scikit-learn/\n",
      "WARNING: Retrying (Retry(total=3, connect=None, read=None, redirect=None, status=None)) after connection broken by 'NewConnectionError('<pip._vendor.urllib3.connection.HTTPSConnection object at 0x00000222D2E04520>: Failed to establish a new connection: [Errno 11001] getaddrinfo failed')': /simple/scikit-learn/\n",
      "WARNING: Retrying (Retry(total=2, connect=None, read=None, redirect=None, status=None)) after connection broken by 'NewConnectionError('<pip._vendor.urllib3.connection.HTTPSConnection object at 0x00000222D2E04310>: Failed to establish a new connection: [Errno 11001] getaddrinfo failed')': /simple/scikit-learn/\n",
      "WARNING: Retrying (Retry(total=1, connect=None, read=None, redirect=None, status=None)) after connection broken by 'NewConnectionError('<pip._vendor.urllib3.connection.HTTPSConnection object at 0x00000222D2E04130>: Failed to establish a new connection: [Errno 11001] getaddrinfo failed')': /simple/scikit-learn/\n",
      "WARNING: Retrying (Retry(total=0, connect=None, read=None, redirect=None, status=None)) after connection broken by 'NewConnectionError('<pip._vendor.urllib3.connection.HTTPSConnection object at 0x00000222D2E04C40>: Failed to establish a new connection: [Errno 11001] getaddrinfo failed')': /simple/scikit-learn/\n"
     ]
    }
   ],
   "source": [
    "!pip install -U scikit-learn==0.22.2"
   ]
  }
 ],
 "metadata": {
  "kernelspec": {
   "display_name": "Python 3",
   "language": "python",
   "name": "python3"
  },
  "language_info": {
   "codemirror_mode": {
    "name": "ipython",
    "version": 3
   },
   "file_extension": ".py",
   "mimetype": "text/x-python",
   "name": "python",
   "nbconvert_exporter": "python",
   "pygments_lexer": "ipython3",
   "version": "3.8.8"
  }
 },
 "nbformat": 4,
 "nbformat_minor": 5
}
