{
 "cells": [
  {
   "cell_type": "code",
   "execution_count": 6,
   "id": "02749171",
   "metadata": {},
   "outputs": [],
   "source": [
    "import face_recognition\n",
    "import cv2\n",
    "import os"
   ]
  },
  {
   "cell_type": "code",
   "execution_count": 7,
   "id": "4d22e556",
   "metadata": {},
   "outputs": [],
   "source": [
    "def read_img(path):\n",
    "    img = cv2.imread(path)\n",
    "    (h, w) = img.shape[:2]\n",
    "    width = 500\n",
    "    ratio = width / float(w)\n",
    "    height = int(h * ratio)\n",
    "    return cv2.resize(img, (width, height))"
   ]
  },
  {
   "cell_type": "code",
   "execution_count": 8,
   "id": "005968d0",
   "metadata": {},
   "outputs": [],
   "source": [
    "known_encodings = []\n",
    "known_names = []\n",
    "known_dir = 'known'"
   ]
  },
  {
   "cell_type": "code",
   "execution_count": 9,
   "id": "5ba231de",
   "metadata": {},
   "outputs": [],
   "source": [
    "for file in os.listdir(known_dir):\n",
    "    img = read_img(known_dir + '/' + file)\n",
    "    img_enc = face_recognition.face_encodings(img)[0]\n",
    "    known_encodings.append(img_enc)\n",
    "    known_names.append(file.split('.')[0])\n"
   ]
  },
  {
   "cell_type": "code",
   "execution_count": 10,
   "id": "eb321691",
   "metadata": {},
   "outputs": [
    {
     "name": "stdout",
     "output_type": "stream",
     "text": [
      "Processing 1.jpg\n",
      "Processing 2.jpg\n",
      "Processing 3.jpg\n",
      "Processing 4.jpg\n"
     ]
    }
   ],
   "source": [
    "unknown_dir = 'unknown'\n",
    "for file in os.listdir(unknown_dir):\n",
    "    print(\"Processing\", file)\n",
    "    img = read_img(unknown_dir + '/' + file)\n",
    "    img_enc = face_recognition.face_encodings(img)[0]"
   ]
  },
  {
   "cell_type": "code",
   "execution_count": 14,
   "id": "50ceeae3",
   "metadata": {},
   "outputs": [
    {
     "name": "stdout",
     "output_type": "stream",
     "text": [
      "[0.74039427 0.84514967 0.36119878]\n"
     ]
    }
   ],
   "source": [
    "results = face_recognition.compare_faces(known_encodings, img_enc)\n",
    "print(face_recognition.face_distance(known_encodings, img_enc))\n",
    "for i in range(len(results)):\n",
    "    if results[i]:\n",
    "        name = known_names[i]\n",
    "        (top, right, bottom, left) = face_recognition.face_locations(img)[0]\n",
    "        cv2.rectangle(img, (left, top), (right, bottom), (0, 0, 255), 2)\n",
    "        cv2.putText(img, name, (left+2, bottom+20), cv2.FONT_HERSHEY_PLAIN, 1, (255, 255, 255), 1)\n",
    "        cv2.imshow('img',img)\n",
    "        cv2.waitKey(0)\n",
    "# print(results)"
   ]
  },
  {
   "cell_type": "code",
   "execution_count": 6,
   "id": "5787bd26",
   "metadata": {},
   "outputs": [
    {
     "name": "stdout",
     "output_type": "stream",
     "text": [
      "result [True]\n"
     ]
    }
   ],
   "source": [
    "\n",
    "\n",
    "img = cv2.imread('Bill_Gate.jpg')\n",
    "rgb_img = cv2.cvtColor(img,cv2.COLOR_BGR2RGB)\n",
    "img_encoding = face_recognition.face_encodings(rgb_img)[0]\n",
    "img2 = cv2.imread('Bill_Gates.jpg')\n",
    "rgb_img2 = cv2.cvtColor(img2,cv2.COLOR_BGR2RGB)\n",
    "img_encoding2 = face_recognition.face_encodings(rgb_img2)[0]\n",
    "result=face_recognition.compare_faces([img_encoding],img_encoding2)\n",
    "print('result',result) \n",
    "\n",
    "# cv2.imshow('img',img)\n",
    "# cv2.waitKey(0)"
   ]
  },
  {
   "cell_type": "code",
   "execution_count": 2,
   "id": "e57a119e",
   "metadata": {},
   "outputs": [],
   "source": [
    "import cv2\n",
    "import face_recognition"
   ]
  },
  {
   "cell_type": "code",
   "execution_count": null,
   "id": "1dc97ccf",
   "metadata": {},
   "outputs": [],
   "source": [
    "from "
   ]
  },
  {
   "cell_type": "code",
   "execution_count": null,
   "id": "007c1181",
   "metadata": {},
   "outputs": [],
   "source": [
    "    "
   ]
  },
  {
   "cell_type": "code",
   "execution_count": null,
   "id": "cb501fe2",
   "metadata": {},
   "outputs": [],
   "source": []
  },
  {
   "cell_type": "code",
   "execution_count": null,
   "id": "ee56a96a",
   "metadata": {},
   "outputs": [],
   "source": []
  },
  {
   "cell_type": "code",
   "execution_count": null,
   "id": "44be892d",
   "metadata": {},
   "outputs": [],
   "source": []
  }
 ],
 "metadata": {
  "kernelspec": {
   "display_name": "Python 3",
   "language": "python",
   "name": "python3"
  },
  "language_info": {
   "codemirror_mode": {
    "name": "ipython",
    "version": 3
   },
   "file_extension": ".py",
   "mimetype": "text/x-python",
   "name": "python",
   "nbconvert_exporter": "python",
   "pygments_lexer": "ipython3",
   "version": "3.8.8"
  }
 },
 "nbformat": 4,
 "nbformat_minor": 5
}
