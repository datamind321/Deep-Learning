{
 "cells": [
  {
   "cell_type": "code",
   "execution_count": 1,
   "id": "ac071366",
   "metadata": {},
   "outputs": [],
   "source": [
    "import cv2 as cv\n",
    "import math\n",
    "import time"
   ]
  },
  {
   "cell_type": "code",
   "execution_count": 2,
   "id": "2522673a",
   "metadata": {},
   "outputs": [],
   "source": [
    "def getFaceBox(net, frame, conf_threshold=0.7):\n",
    "    frameOpencvDnn = frame.copy()\n",
    "    frameHeight = frameOpencvDnn.shape[0]\n",
    "    frameWidth = frameOpencvDnn.shape[1]\n",
    "    blob = cv.dnn.blobFromImage(frameOpencvDnn, 1.0, (300, 300), [104, 117, 123], True, False)\n",
    "    net.setInput(blob)\n",
    "    detections = net.forward()\n",
    "    bboxes = []\n",
    "    for i in range(detections.shape[2]):\n",
    "        confidence = detections[0, 0, i, 2]\n",
    "        if confidence > conf_threshold:\n",
    "            x1 = int(detections[0, 0, i, 3] * frameWidth)\n",
    "            y1 = int(detections[0, 0, i, 4] * frameHeight)\n",
    "            x2 = int(detections[0, 0, i, 5] * frameWidth)\n",
    "            y2 = int(detections[0, 0, i, 6] * frameHeight)\n",
    "            bboxes.append([x1, y1, x2, y2])\n",
    "            cv.rectangle(frameOpencvDnn, (x1, y1), (x2, y2), (0, 255, 0), int(round(frameHeight/150)), 8)\n",
    "    return frameOpencvDnn, bboxes"
   ]
  },
  {
   "cell_type": "code",
   "execution_count": 3,
   "id": "d5e42203",
   "metadata": {},
   "outputs": [],
   "source": [
    "faceProto = \"modelNweight/opencv_face_detector.pbtxt\"\n",
    "faceModel = \"modelNweight/opencv_face_detector_uint8.pb\"\n",
    "\n",
    "ageProto = \"modelNweight/age_deploy.prototxt\"\n",
    "ageModel = \"modelNweight/age_net.caffemodel\"\n",
    "\n",
    "genderProto = \"modelNweight/gender_deploy.prototxt\"\n",
    "genderModel = \"modelNweight/gender_net.caffemodel\""
   ]
  },
  {
   "cell_type": "code",
   "execution_count": 4,
   "id": "4efcabe3",
   "metadata": {},
   "outputs": [],
   "source": [
    "MODEL_MEAN_VALUES = (78.4263377603, 87.7689143744, 114.895847746)\n",
    "ageList = ['(0-2)', '(4-6)', '(8-12)', '(15-20)', '(25-32)', '(38-43)', '(48-53)', '(60-100)']\n",
    "genderList = ['Male', 'Female']\n"
   ]
  },
  {
   "cell_type": "code",
   "execution_count": 7,
   "id": "c7844904",
   "metadata": {},
   "outputs": [],
   "source": [
    "ageNet = cv.dnn.readNet(ageModel, ageProto)\n",
    "genderNet = cv.dnn.readNet(genderModel, genderProto)\n",
    "faceNet = cv.dnn.readNet(faceModel, faceProto)\n",
    "padding = 20"
   ]
  },
  {
   "cell_type": "code",
   "execution_count": 8,
   "id": "9f9a032c",
   "metadata": {},
   "outputs": [],
   "source": [
    "def age_gender_detector(frame):\n",
    "    # Read frame\n",
    "    t = time.time()\n",
    "    frameFace, bboxes = getFaceBox(faceNet, frame)\n",
    "    for bbox in bboxes:\n",
    "        # print(bbox)\n",
    "        face = frame[max(0,bbox[1]-padding):min(bbox[3]+padding,frame.shape[0]-1),max(0,bbox[0]-padding):min(bbox[2]+padding, frame.shape[1]-1)]\n",
    "\n",
    "        blob = cv.dnn.blobFromImage(face, 1.0, (227, 227), MODEL_MEAN_VALUES, swapRB=False)\n",
    "        genderNet.setInput(blob)\n",
    "        genderPreds = genderNet.forward()\n",
    "        gender = genderList[genderPreds[0].argmax()]\n",
    "        ageNet.setInput(blob)\n",
    "        agePreds = ageNet.forward()\n",
    "        age = ageList[agePreds[0].argmax()]\n",
    "\n",
    "        label = \"{},{}\".format(gender, age)\n",
    "        cv.putText(frameFace, label, (bbox[0], bbox[1]-10), cv.FONT_HERSHEY_SIMPLEX, 0.8, (0, 255, 255), 2, cv.LINE_AA)\n",
    "    return frameFace"
   ]
  },
  {
   "cell_type": "code",
   "execution_count": 22,
   "id": "b8b18f1b",
   "metadata": {},
   "outputs": [
    {
     "data": {
      "text/plain": [
       "-1"
      ]
     },
     "execution_count": 22,
     "metadata": {},
     "output_type": "execute_result"
    }
   ],
   "source": [
    "import matplotlib.pyplot as plt\n",
    "input = cv.imread(\"cp.png\")\n",
    "output = age_gender_detector(input)\n",
    "cv.imshow('output',output)\n",
    "cv.waitKey(0)"
   ]
  },
  {
   "cell_type": "markdown",
   "id": "8a1510f4",
   "metadata": {},
   "source": [
    "# Detection On Video (MP4)"
   ]
  },
  {
   "cell_type": "code",
   "execution_count": 23,
   "id": "a414a613",
   "metadata": {},
   "outputs": [
    {
     "name": "stdout",
     "output_type": "stream",
     "text": [
      "Processing Video...\n",
      "Done processing video\n"
     ]
    }
   ],
   "source": [
    "import cv2\n",
    "cap = cv2.VideoCapture('images/shayri2.mp4')\n",
    "ret, frame = cap.read()\n",
    "frame_height, frame_width, _ = frame.shape\n",
    "out = cv2.VideoWriter('output.avi',cv2.VideoWriter_fourcc('M','J','P','G'), 10, (frame_width,frame_height))\n",
    "print(\"Processing Video...\")\n",
    "while cap.isOpened():\n",
    "  ret, frame = cap.read()\n",
    "  if not ret:\n",
    "    out.release()\n",
    "    break\n",
    "  output = age_gender_detector(frame)\n",
    "  out.write(output)\n",
    "out.release()\n",
    "print(\"Done processing video\")"
   ]
  },
  {
   "cell_type": "markdown",
   "id": "1bf6c95c",
   "metadata": {},
   "source": [
    "#  Live Detection Age n Gender"
   ]
  },
  {
   "cell_type": "code",
   "execution_count": 5,
   "id": "76c6cb3c",
   "metadata": {},
   "outputs": [],
   "source": [
    "import cv2\n",
    "\n",
    "def faceBox(faceNet,frame):\n",
    "    frameHeight=frame.shape[0]\n",
    "    frameWidth=frame.shape[1]\n",
    "    blob=cv2.dnn.blobFromImage(frame, 1.0, (300,300), [104,117,123], swapRB=False)\n",
    "    faceNet.setInput(blob)\n",
    "    detection=faceNet.forward()\n",
    "    bboxs=[]\n",
    "    for i in range(detection.shape[2]):\n",
    "        confidence=detection[0,0,i,2]\n",
    "        if confidence>0.7:\n",
    "            x1=int(detection[0,0,i,3]*frameWidth)\n",
    "            y1=int(detection[0,0,i,4]*frameHeight)\n",
    "            x2=int(detection[0,0,i,5]*frameWidth)\n",
    "            y2=int(detection[0,0,i,6]*frameHeight)\n",
    "            bboxs.append([x1,y1,x2,y2])\n",
    "            cv2.rectangle(frame, (x1,y1),(x2,y2),(0,255,0), 1)\n",
    "    return frame, bboxs\n",
    "\n",
    "\n",
    "faceProto = \"modelNweight/opencv_face_detector.pbtxt\"\n",
    "faceModel = \"modelNweight/opencv_face_detector_uint8.pb\"\n",
    "\n",
    "ageProto = \"modelNweight/age_deploy.prototxt\"\n",
    "ageModel = \"modelNweight/age_net.caffemodel\"\n",
    "\n",
    "genderProto = \"modelNweight/gender_deploy.prototxt\"\n",
    "genderModel = \"modelNweight/gender_net.caffemodel\"\n",
    "\n",
    "\n",
    "\n",
    "faceNet=cv2.dnn.readNet(faceModel, faceProto)\n",
    "ageNet=cv2.dnn.readNet(ageModel,ageProto)\n",
    "genderNet=cv2.dnn.readNet(genderModel,genderProto)\n",
    "\n",
    "MODEL_MEAN_VALUES = (78.4263377603, 87.7689143744, 114.895847746)\n",
    "ageList = ['(0-2)', '(4-6)', '(8-12)', '(15-20)', '(25-32)', '(38-43)', '(48-53)', '(60-100)']\n",
    "genderList = ['Male', 'Female']\n",
    "\n",
    "\n",
    "video=cv2.VideoCapture(0)\n",
    "padding =20\n",
    "\n",
    "while True:\n",
    "    ret,frame=video.read()\n",
    "    frame,bboxs=faceBox(faceNet,frame)\n",
    "    for bbox in bboxs:\n",
    "        # face=frame[bbox[1]:bbox[3], bbox[0]:bbox[2]]\n",
    "        face = frame[max(0,bbox[1]-padding):min(bbox[3]+padding,frame.shape[0]-1),max(0,bbox[0]-padding):min(bbox[2]+padding, frame.shape[1]-1)]\n",
    "        blob=cv2.dnn.blobFromImage(face, 1.0, (227,227), MODEL_MEAN_VALUES, swapRB=False)\n",
    "        genderNet.setInput(blob)\n",
    "        genderPred=genderNet.forward()\n",
    "        gender=genderList[genderPred[0].argmax()]\n",
    "\n",
    "\n",
    "        ageNet.setInput(blob)\n",
    "        agePred=ageNet.forward()\n",
    "        age=ageList[agePred[0].argmax()]\n",
    "\n",
    "\n",
    "        label=\"{},{}\".format(gender,age)\n",
    "        cv2.rectangle(frame,(bbox[0], bbox[1]-30), (bbox[2], bbox[1]), (0,255,0),-1) \n",
    "        cv2.putText(frame, label, (bbox[0], bbox[1]-10), cv2.FONT_HERSHEY_SIMPLEX, 0.8, (255,255,255), 2,cv2.LINE_AA)\n",
    "    cv2.imshow(\"Age-Gender\",frame)\n",
    "    k=cv2.waitKey(1)\n",
    "    if k==ord('q'):\n",
    "        break\n",
    "video.release()\n",
    "cv2.destroyAllWindows()"
   ]
  },
  {
   "cell_type": "markdown",
   "id": "8c92b6c3",
   "metadata": {},
   "source": [
    "# Live Webcam"
   ]
  },
  {
   "cell_type": "code",
   "execution_count": 6,
   "id": "bb372500",
   "metadata": {},
   "outputs": [],
   "source": [
    "import cv2 \n",
    "video = cv2.VideoCapture(0)\n",
    "while True:\n",
    "    ret,frame=video.read()\n",
    "    cv2.imshow('age-gender',frame)\n",
    "    k=cv2.waitKey(1)\n",
    "    if k==ord('q'):\n",
    "        break\n",
    "video.release()\n",
    "cv2.destroyAllWindows()\n",
    "    "
   ]
  }
 ],
 "metadata": {
  "kernelspec": {
   "display_name": "Python 3",
   "language": "python",
   "name": "python3"
  },
  "language_info": {
   "codemirror_mode": {
    "name": "ipython",
    "version": 3
   },
   "file_extension": ".py",
   "mimetype": "text/x-python",
   "name": "python",
   "nbconvert_exporter": "python",
   "pygments_lexer": "ipython3",
   "version": "3.8.8"
  }
 },
 "nbformat": 4,
 "nbformat_minor": 5
}
