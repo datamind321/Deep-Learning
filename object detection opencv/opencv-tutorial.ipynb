{
 "cells": [
  {
   "cell_type": "code",
   "execution_count": 1,
   "id": "3a59aca8",
   "metadata": {},
   "outputs": [],
   "source": [
    "import cv2"
   ]
  },
  {
   "cell_type": "code",
   "execution_count": 2,
   "id": "3584dcb3",
   "metadata": {},
   "outputs": [],
   "source": [
    "color_image=cv2.imread(\"C:\\\\Users\\\\Dell\\\\Deep Learning Playlist\\\\object detection opencv\\\\images\\\\mop.jpg\")  "
   ]
  },
  {
   "cell_type": "code",
   "execution_count": 3,
   "id": "9c66adb9",
   "metadata": {},
   "outputs": [],
   "source": [
    "face_cascade = cv2.CascadeClassifier('C:\\\\Users\\Dell\\\\Deep Learning Playlist\\\\object detection opencv\\\\haarcascades\\\\haarcascade_frontal_face_default.xml')\n",
    "eye_cascade = cv2.CascadeClassifier('C:\\\\Users\\Dell\\\\Deep Learning Playlist\\\\object detection opencv\\\\haarcascades\\\\haarcascade_eye.xml')"
   ]
  },
  {
   "cell_type": "code",
   "execution_count": 4,
   "id": "ac9b1065",
   "metadata": {},
   "outputs": [],
   "source": [
    "gray_image = cv2.cvtColor(color_image,cv2.COLOR_BGR2GRAY)"
   ]
  },
  {
   "cell_type": "code",
   "execution_count": 5,
   "id": "c9c7921c",
   "metadata": {},
   "outputs": [],
   "source": [
    "faces = face_cascade.detectMultiScale(gray_image,1.3,5)"
   ]
  },
  {
   "cell_type": "code",
   "execution_count": 6,
   "id": "2d62c03c",
   "metadata": {},
   "outputs": [],
   "source": [
    "for(x,y,w,h) in faces:\n",
    "    color_image= cv2.rectangle(color_image,(x,y),(x+w,y+h),(0,255,0),2)\n",
    "    roi_gray = gray_image[y:y+h, x:x+w]   #our gray image which uses detect face and eyes part\n",
    "    roi_color = color_image[y:y+h, x:x+w]  #original image which detect only facec part\n",
    "    eyes = eye_cascade.detectMultiScale(roi_gray)\n",
    "    for(ex,ey,ew,eh) in eyes:\n",
    "        cv2.rectangle(roi_color,(ex,ey),(ex+ew,ey+eh),(0,255,0),2)"
   ]
  },
  {
   "cell_type": "code",
   "execution_count": 7,
   "id": "80458f73",
   "metadata": {},
   "outputs": [],
   "source": [
    "cv2.imshow('img',color_image)\n",
    "cv2.waitKey(0)\n",
    "cv2.destroyAllWindows()"
   ]
  },
  {
   "cell_type": "code",
   "execution_count": null,
   "id": "58656b2a",
   "metadata": {},
   "outputs": [],
   "source": [
    "\n",
    "import cv2\n",
    "import numpy as np \n",
    "face_cascade = cv2.CascadeClassifier('C:\\\\Users\\Dell\\\\Deep Learning Playlist\\\\object detection opencv\\\\haarcascades\\\\haarcascade_frontal_face_default.xml')\n",
    "eye_cascade = cv2.CascadeClassifier('C:\\\\Users\\Dell\\\\Deep Learning Playlist\\\\object detection opencv\\\\haarcascades\\\\haarcascade_eye.xml')\n",
    "cap = cv2.VideoCapture(0)\n",
    "while 1:\n",
    "    ret,img=cap.read()\n",
    "    gray_image = cv2.cvtColor(img,cv2.COLOR_BGR2GRAY)\n",
    "    faces = face_cascade.detectMultiScale(gray_image,1.3,5)\n",
    "    for(x,y,w,h) in faces:\n",
    "        cv2.rectangle(img,(x,y),(x+w,y+h),(0,255,0),2)\n",
    "        roi_gray = gray_image[y:y+h, x:x+w]   #our gray image which uses detect face and eyes part\n",
    "        roi_color = img[y:y+h, x:x+w]  #original image which detect only facec part\n",
    "        eyes = eye_cascade.detectMultiScale(roi_gray)\n",
    "        for(ex,ey,ew,eh) in eyes:\n",
    "            cv2.rectangle(roi_color,(ex,ey),(ex+ew,ey+eh),(0,255,0),2)\n",
    "        \n",
    "    cv2.imshow('img',img)\n",
    "    k = cv2.waitKey(30) & 0xff\n",
    "    if k==27:\n",
    "        break\n",
    "cap.release()\n",
    "cv2.destroyAllWindows()"
   ]
  },
  {
   "cell_type": "code",
   "execution_count": null,
   "id": "1259e668",
   "metadata": {},
   "outputs": [],
   "source": []
  }
 ],
 "metadata": {
  "kernelspec": {
   "display_name": "Python 3",
   "language": "python",
   "name": "python3"
  },
  "language_info": {
   "codemirror_mode": {
    "name": "ipython",
    "version": 3
   },
   "file_extension": ".py",
   "mimetype": "text/x-python",
   "name": "python",
   "nbconvert_exporter": "python",
   "pygments_lexer": "ipython3",
   "version": "3.8.8"
  }
 },
 "nbformat": 4,
 "nbformat_minor": 5
}
